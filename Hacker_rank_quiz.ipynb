{
 "cells": [
  {
   "cell_type": "code",
   "execution_count": null,
   "metadata": {},
   "outputs": [],
   "source": [
    "if __name__ == '__main__':\n",
    "    print(\"Hello, World!\")"
   ]
  },
  {
   "cell_type": "code",
   "execution_count": null,
   "metadata": {},
   "outputs": [],
   "source": [
    "if __name__ == '__main__':\n",
    "    n = int(input().strip())\n",
    "    if n%2 != 0:\n",
    "        print('Weird')\n",
    "    elif (n%2==0) and (n<=5):\n",
    "        print('Not Werid')\n",
    "    elif (n%2==0) and (n<=20):\n",
    "        print('WERID')\n",
    "    elif(n%2==0) and (n>20):\n",
    "        print(\"dfef\")"
   ]
  },
  {
   "cell_type": "code",
   "execution_count": null,
   "metadata": {},
   "outputs": [],
   "source": [
    "N = int(input().strip())\n",
    "if (N % 2 != 0):\n",
    "    print(\"Weird\")\n",
    "elif (N % 2 == 0) and (2 <= N) and (N <= 5):\n",
    "    print(\"Not Weird\")\n",
    "elif (N % 2 == 0) and (6 <= N) and (N <= 20):\n",
    "    print(\"Weird\")\n",
    "elif (N % 2 == 0) and (20 < N):\n",
    "    print(\"Not Weird\")"
   ]
  },
  {
   "cell_type": "code",
   "execution_count": null,
   "metadata": {},
   "outputs": [],
   "source": [
    "a = int(input())\n",
    "for x in range(a):\n",
    "    print(x**2)"
   ]
  },
  {
   "cell_type": "code",
   "execution_count": null,
   "metadata": {},
   "outputs": [],
   "source": [
    "def is_leap(year):\n",
    "    leap = False\n",
    "    if year%4==0:\n",
    "        leap = True\n",
    "        return leap\n",
    "\n",
    "year = int(input())"
   ]
  },
  {
   "cell_type": "code",
   "execution_count": null,
   "metadata": {},
   "outputs": [],
   "source": [
    "def is_leap(year):\n",
    "    leap = False\n",
    "    \n",
    "    if (year % 4 == 0):\n",
    "        leap = True\n",
    "        if (year % 100 == 0):\n",
    "            leap = False\n",
    "            if (year % 400 == 0):\n",
    "                leap = True\n",
    "    return leap"
   ]
  },
  {
   "cell_type": "code",
   "execution_count": null,
   "metadata": {},
   "outputs": [],
   "source": [
    "a = int(input())\n",
    "list1 = []\n",
    "for i in range(a):\n",
    "    list1.append(i)\n",
    "print(list1)\n",
    "    "
   ]
  },
  {
   "cell_type": "code",
   "execution_count": null,
   "metadata": {},
   "outputs": [],
   "source": [
    "list(map(lambda i: print(i, end=''), [i for i in range(1, int(input()) + 1)]))"
   ]
  },
  {
   "cell_type": "code",
   "execution_count": null,
   "metadata": {},
   "outputs": [],
   "source": [
    "a = int(input())\n",
    "for i in range(1,a+1):\n",
    "    print(i,end='')"
   ]
  },
  {
   "cell_type": "code",
   "execution_count": null,
   "metadata": {},
   "outputs": [],
   "source": [
    "for i in range(1,int(input())+1):\n",
    "    print(i,end='',sep='##')"
   ]
  },
  {
   "cell_type": "code",
   "execution_count": null,
   "metadata": {},
   "outputs": [],
   "source": [
    "for x in range (int(input())):\n",
    "    print(x+1,end = '')"
   ]
  },
  {
   "cell_type": "code",
   "execution_count": null,
   "metadata": {},
   "outputs": [],
   "source": [
    "_ = input()\n",
    "a = set(int(x) for x in input().split(' '))\n",
    "\n",
    "n = int(input())\n",
    "for _ in range(n):\n",
    "    op, _ = input().split(' ')\n",
    "    b = set(int(x) for x in input().split(' '))\n",
    "    if op == \"update\":\n",
    "        a |= b\n",
    "    elif op == \"intersection_update\":\n",
    "        a &= b\n",
    "    elif op == \"difference_update\":\n",
    "        a -= b\n",
    "    elif op == \"symmetric_difference_update\":\n",
    "        a ^= b\n",
    "\n",
    "print(sum(a))\n",
    "        "
   ]
  },
  {
   "cell_type": "code",
   "execution_count": null,
   "metadata": {},
   "outputs": [],
   "source": [
    "num = int(input())\n",
    "data = set(map(int, input().split()))\n",
    "operations = int(input())\n",
    "\n",
    "for oper in range(operations):\n",
    "    op = input().split()\n",
    "    if op[0] == \"intersection_update\":\n",
    "        data.intersection_update(set(map(int, input().split())))\n",
    "    elif op[0] == \"update\":\n",
    "        data.update(set(map(int, input().split())))\n",
    "    elif op[0] == \"symmetric_difference_update\":\n",
    "        data.symmetric_difference_update(set(map(int, input().split())))\n",
    "    else: #difference update\n",
    "        data.difference_update(set(map(int, input().split())))\n",
    "    \n",
    "print(sum(data))\n",
    "  "
   ]
  },
  {
   "cell_type": "code",
   "execution_count": null,
   "metadata": {},
   "outputs": [],
   "source": [
    "data = set(int, input().split())"
   ]
  },
  {
   "cell_type": "code",
   "execution_count": null,
   "metadata": {},
   "outputs": [],
   "source": [
    "_ = input()\n",
    "S = set(map(int, input().split()))\n",
    "for _ in range(int(input())):\n",
    "    OP, _ = input().split()\n",
    "    T = set(map(int, input().split()))\n",
    "    if OP == \"intersection_update\":\n",
    "        S &= T\n",
    "    if OP == \"update\":\n",
    "        S |= T\n",
    "    if OP == \"symmetric_difference_update\":\n",
    "        S ^= T\n",
    "    if OP == \"difference_update\":\n",
    "        S -= T\n",
    "print(sum(S))"
   ]
  },
  {
   "cell_type": "code",
   "execution_count": null,
   "metadata": {},
   "outputs": [],
   "source": [
    "k = int(input())\n",
    "rooms = (int(x) for x in input().split(' '))\n",
    "print(rooms)\n",
    "seen = {}\n",
    "\n",
    "for i in rooms:\n",
    "    \n",
    "    if i not in seen:\n",
    "        seen[i] = 1\n",
    "    else:\n",
    "        seen[i] += 1\n",
    "\n",
    "for key, val in seen.items():\n",
    "    if val != k:\n",
    "        print(key)"
   ]
  },
  {
   "cell_type": "code",
   "execution_count": null,
   "metadata": {},
   "outputs": [],
   "source": [
    "a = input()\n",
    "print(a.split())"
   ]
  },
  {
   "cell_type": "code",
   "execution_count": null,
   "metadata": {},
   "outputs": [],
   "source": [
    "k = int(input())\n",
    "room_nums = map(int, input().split())\n",
    "\n",
    "from collections import Counter\n",
    "counts = Counter(room_nums)\n",
    "print(counts)\n",
    "for num, count in counts.items():\n",
    "    if count != k:\n",
    "        print(num)\n",
    "        break"
   ]
  },
  {
   "cell_type": "code",
   "execution_count": null,
   "metadata": {},
   "outputs": [],
   "source": [
    "for i in range(int(input())): #More than 4 lines will result in 0 score. Do not leave a blank line also. \n",
    "    A = int(input())\n",
    "    A = set(input().split()) \n",
    "    b = int(input()) \n",
    "    B = set(input().split())\n",
    "    print(A.issubset(B))"
   ]
  },
  {
   "cell_type": "code",
   "execution_count": 5,
   "metadata": {},
   "outputs": [
    {
     "name": "stdout",
     "output_type": "stream",
     "text": [
      "456\n",
      "3\n",
      "7777\n",
      "False\n"
     ]
    }
   ],
   "source": [
    "s = set(input().split())\n",
    "ans = True\n",
    "for i in range(int(input())):\n",
    "    t = set(input().split())\n",
    "    if (s > t) == False:\n",
    "        ans = False\n",
    "        break\n",
    "print(ans)    "
   ]
  },
  {
   "cell_type": "code",
   "execution_count": null,
   "metadata": {},
   "outputs": [],
   "source": []
  }
 ],
 "metadata": {
  "kernelspec": {
   "display_name": "Python 3",
   "language": "python",
   "name": "python3"
  },
  "language_info": {
   "codemirror_mode": {
    "name": "ipython",
    "version": 3
   },
   "file_extension": ".py",
   "mimetype": "text/x-python",
   "name": "python",
   "nbconvert_exporter": "python",
   "pygments_lexer": "ipython3",
   "version": "3.6.4"
  }
 },
 "nbformat": 4,
 "nbformat_minor": 2
}
