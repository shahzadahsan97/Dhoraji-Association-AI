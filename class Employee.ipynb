{
 "cells": [
  {
   "cell_type": "code",
   "execution_count": null,
   "metadata": {},
   "outputs": [],
   "source": [
    "class Employee:\n",
    "    name = 'Waqas'\n",
    "    designation = 'Senior Developer'\n",
    "    projectsdone = 6\n",
    "    \n",
    "    def hasAchivedTargets(self):\n",
    "        if self.projectsdone >= 5:\n",
    "            print('He has achived his monthly target')\n",
    "        else:\n",
    "            print(\"Traget has not been achived\")\n",
    "        "
   ]
  },
  {
   "cell_type": "code",
   "execution_count": null,
   "metadata": {},
   "outputs": [],
   "source": [
    "employeeOne = Employee()\n",
    "employeeOne.name"
   ]
  },
  {
   "cell_type": "code",
   "execution_count": null,
   "metadata": {},
   "outputs": [],
   "source": [
    "employeeOne.hasAchivedTargets()"
   ]
  },
  {
   "cell_type": "code",
   "execution_count": null,
   "metadata": {},
   "outputs": [],
   "source": [
    "employeeTwo = Employee()\n",
    "employeeTwo.name"
   ]
  },
  {
   "cell_type": "markdown",
   "metadata": {},
   "source": [
    "# class Atribute and Instance Atribute"
   ]
  },
  {
   "cell_type": "code",
   "execution_count": null,
   "metadata": {},
   "outputs": [],
   "source": [
    "class Employee:\n",
    "    numberofworkinghours = 44\n",
    "    "
   ]
  },
  {
   "cell_type": "code",
   "execution_count": null,
   "metadata": {},
   "outputs": [],
   "source": [
    "employeeone = Employee()\n",
    "employeetwo = Employee()"
   ]
  },
  {
   "cell_type": "code",
   "execution_count": null,
   "metadata": {},
   "outputs": [],
   "source": [
    "employeeone.numberofworkinghours"
   ]
  },
  {
   "cell_type": "code",
   "execution_count": null,
   "metadata": {},
   "outputs": [],
   "source": [
    "employeetwo.numberofworkinghours"
   ]
  },
  {
   "cell_type": "code",
   "execution_count": null,
   "metadata": {},
   "outputs": [],
   "source": [
    "Employee.numberofworkinghours = 40"
   ]
  },
  {
   "cell_type": "code",
   "execution_count": null,
   "metadata": {},
   "outputs": [],
   "source": [
    "employeeone.numberofworkinghours"
   ]
  },
  {
   "cell_type": "code",
   "execution_count": null,
   "metadata": {},
   "outputs": [],
   "source": [
    "employeetwo.numberofworkinghours"
   ]
  },
  {
   "cell_type": "code",
   "execution_count": null,
   "metadata": {},
   "outputs": [],
   "source": [
    "employeeOne.name = 'Ahmed'\n",
    "employeeOne.name"
   ]
  },
  {
   "cell_type": "code",
   "execution_count": null,
   "metadata": {},
   "outputs": [],
   "source": [
    "employeeTwo.name"
   ]
  },
  {
   "cell_type": "code",
   "execution_count": null,
   "metadata": {},
   "outputs": [],
   "source": [
    "employeeone.numberofworkinghours = 100\n",
    "employeetwo.numberofworkinghours"
   ]
  },
  {
   "cell_type": "code",
   "execution_count": null,
   "metadata": {},
   "outputs": [],
   "source": [
    "employeeone.numberofworkinghours"
   ]
  },
  {
   "cell_type": "markdown",
   "metadata": {},
   "source": [
    "# Understanding the Self parameter"
   ]
  },
  {
   "cell_type": "code",
   "execution_count": null,
   "metadata": {},
   "outputs": [],
   "source": [
    "class Employee:\n",
    "    def employeeDetails(this):\n",
    "        this.name = 'John'\n",
    "        print('Name of employee is' , this.name)\n",
    "        this.age = 23\n",
    "        print(\"Age of employee is \" , this.age)\n",
    "        \n",
    "    def printemployeeDetails(this):\n",
    "        print(\"Employee Details are: \")\n",
    "        print('Name: ' ,  this.name)\n",
    "        print(\"Age: \" , this.age)"
   ]
  },
  {
   "cell_type": "code",
   "execution_count": null,
   "metadata": {},
   "outputs": [],
   "source": [
    "employee = Employee()\n",
    "employee.employeeDetails()"
   ]
  },
  {
   "cell_type": "code",
   "execution_count": null,
   "metadata": {},
   "outputs": [],
   "source": [
    "employee.printemployeeDetails()\n",
    "#Employee.printemployeeDetails(employee)"
   ]
  },
  {
   "cell_type": "markdown",
   "metadata": {},
   "source": [
    "# Static Method and Instance Method"
   ]
  },
  {
   "cell_type": "code",
   "execution_count": null,
   "metadata": {},
   "outputs": [],
   "source": [
    "class Employee:\n",
    "    def employeeDetails(self):\n",
    "        self.name = 'Shahzad'\n",
    "    @staticmethod\n",
    "    def welcomemessage():\n",
    "        print(\"Welcome to our company.\")"
   ]
  },
  {
   "cell_type": "code",
   "execution_count": null,
   "metadata": {},
   "outputs": [],
   "source": [
    "employee1 = Employee()\n",
    "employee1.employeeDetails()\n",
    "print(employee1.name)"
   ]
  },
  {
   "cell_type": "code",
   "execution_count": null,
   "metadata": {},
   "outputs": [],
   "source": [
    "employee1.welcomemessage()"
   ]
  },
  {
   "cell_type": "markdown",
   "metadata": {},
   "source": [
    "# init() method"
   ]
  },
  {
   "cell_type": "code",
   "execution_count": null,
   "metadata": {},
   "outputs": [],
   "source": [
    "class Employee:\n",
    "    def enteremployeedetails(self):\n",
    "        self.name = 'Saif'\n",
    "    \n",
    "    def displayemployeedetails(self):\n",
    "        print(self.name)"
   ]
  },
  {
   "cell_type": "code",
   "execution_count": null,
   "metadata": {},
   "outputs": [],
   "source": [
    "employee = Employee()"
   ]
  },
  {
   "cell_type": "code",
   "execution_count": null,
   "metadata": {},
   "outputs": [],
   "source": [
    "employee.displayemployeedetails()"
   ]
  },
  {
   "cell_type": "code",
   "execution_count": null,
   "metadata": {},
   "outputs": [],
   "source": [
    "class Boy:\n",
    "    def __init__(self , name):\n",
    "        self.name = name\n",
    "    def boydetail(self):\n",
    "        print(self.name)\n",
    "\n",
    "    "
   ]
  },
  {
   "cell_type": "code",
   "execution_count": null,
   "metadata": {},
   "outputs": [],
   "source": [
    "boy = Boy(23)\n",
    "boy.boydetail()"
   ]
  },
  {
   "cell_type": "code",
   "execution_count": null,
   "metadata": {},
   "outputs": [],
   "source": [
    "boy2 = Boy(\"Ali\")\n",
    "boy2.boydetail()"
   ]
  },
  {
   "cell_type": "raw",
   "metadata": {},
   "source": [
    "implement a library management system which will handle the foloowing task:\n",
    "    customer should be able to display all books which are avaible in library.\n",
    "    handle the process when a customer request to borrow a book.\n",
    "    update the library collection when return a book. "
   ]
  },
  {
   "cell_type": "markdown",
   "metadata": {},
   "source": [
    "# Abstraction and Encapsulation"
   ]
  },
  {
   "cell_type": "code",
   "execution_count": 4,
   "metadata": {},
   "outputs": [],
   "source": [
    "class Library:\n",
    "    def __init__(self , ListofBooks):\n",
    "        self.displayavaiablebooks = ListofBooks\n",
    "    \n",
    "    def displayavaiblebook(self):\n",
    "        print(\"###########################################################################\")\n",
    "        print(\"These books are avaiable in the Library: \")\n",
    "        for book in self.displayavaiablebooks:\n",
    "            print(book)\n",
    "        print(\"###########################################################################\")\n",
    "        \n",
    "    def lend(self , requestedbook):\n",
    "        if requestedbook in self.displayavaiablebooks:\n",
    "            print(\"You have borrow a book.\")\n",
    "            self.displayavaiablebooks.remove(requestedbook)\n",
    "        else:\n",
    "            print(\"Sorry! The book is not avaiable in the library.\")\n",
    "            \n",
    "\n",
    "    def addBook(self , returenedbook):\n",
    "        self.displayavaiablebooks.append(returenedbook)\n",
    "        print(\"You have return the book , Thank you!\")\n",
    "    \n",
    "    \n",
    "    \n",
    "class Customer():\n",
    "    def requestbook(self):\n",
    "        print(\"********************************************************************\")\n",
    "        self.book = input(\"please enter the name of thee book u want to borrow: \")\n",
    "        return self.book\n",
    "    \n",
    "    def returnbook(self):\n",
    "        print(\"Enter the name of the book u want to return\")\n",
    "        self.book = input()\n",
    "        return self.book\n",
    "    "
   ]
  },
  {
   "cell_type": "code",
   "execution_count": 5,
   "metadata": {},
   "outputs": [],
   "source": [
    "library = Library(['Oliver Twist' , 'Who will cry when u will die'  , 'Around the world in eighty days' , 'Think and Grow Rich'])\n",
    "customer = Customer()"
   ]
  },
  {
   "cell_type": "code",
   "execution_count": 7,
   "metadata": {},
   "outputs": [
    {
     "name": "stdout",
     "output_type": "stream",
     "text": [
      "Enter 1 to display the books.\n",
      "Enter 2 request for the book.\n",
      "Enter 3 return a book.\n",
      "Enter 4 to exit.\n",
      "Which task do you want to perform: 1\n",
      "###########################################################################\n",
      "These books are avaiable in the Library: \n",
      "Oliver Twist\n",
      "Who will cry when u will die\n",
      "Around the world in eighty days\n",
      "Think and Grow Rich\n",
      "###########################################################################\n",
      "Enter 1 to display the books.\n",
      "Enter 2 request for the book.\n",
      "Enter 3 return a book.\n",
      "Enter 4 to exit.\n",
      "Which task do you want to perform: 2\n",
      "********************************************************************\n",
      "please enter the name of thee book u want to borrow: Oliver Twist\n",
      "You have borrow a book.\n",
      "Enter 1 to display the books.\n",
      "Enter 2 request for the book.\n",
      "Enter 3 return a book.\n",
      "Enter 4 to exit.\n",
      "Which task do you want to perform: 1\n",
      "###########################################################################\n",
      "These books are avaiable in the Library: \n",
      "Who will cry when u will die\n",
      "Around the world in eighty days\n",
      "Think and Grow Rich\n",
      "###########################################################################\n",
      "Enter 1 to display the books.\n",
      "Enter 2 request for the book.\n",
      "Enter 3 return a book.\n",
      "Enter 4 to exit.\n",
      "Which task do you want to perform: 3\n",
      "Enter the name of the book u want to return\n",
      "Oliver Twist\n",
      "You have return the book , Thank you!\n",
      "Enter 1 to display the books.\n",
      "Enter 2 request for the book.\n",
      "Enter 3 return a book.\n",
      "Enter 4 to exit.\n",
      "Which task do you want to perform: 1\n",
      "###########################################################################\n",
      "These books are avaiable in the Library: \n",
      "Who will cry when u will die\n",
      "Around the world in eighty days\n",
      "Think and Grow Rich\n",
      "Oliver Twist\n",
      "###########################################################################\n",
      "Enter 1 to display the books.\n",
      "Enter 2 request for the book.\n",
      "Enter 3 return a book.\n",
      "Enter 4 to exit.\n",
      "Which task do you want to perform: 2\n",
      "********************************************************************\n",
      "please enter the name of thee book u want to borrow: aaaaaa\n",
      "Sorry! The book is not avaiable in the library.\n",
      "Enter 1 to display the books.\n",
      "Enter 2 request for the book.\n",
      "Enter 3 return a book.\n",
      "Enter 4 to exit.\n",
      "Which task do you want to perform: 2\n",
      "********************************************************************\n",
      "please enter the name of thee book u want to borrow: Oliver Twist\n",
      "You have borrow a book.\n",
      "Enter 1 to display the books.\n",
      "Enter 2 request for the book.\n",
      "Enter 3 return a book.\n",
      "Enter 4 to exit.\n",
      "Which task do you want to perform: 3\n",
      "Enter the name of the book u want to return\n",
      "oooooo\n",
      "You have return the book , Thank you!\n",
      "Enter 1 to display the books.\n",
      "Enter 2 request for the book.\n",
      "Enter 3 return a book.\n",
      "Enter 4 to exit.\n",
      "Which task do you want to perform: 1\n",
      "###########################################################################\n",
      "These books are avaiable in the Library: \n",
      "Who will cry when u will die\n",
      "Around the world in eighty days\n",
      "Think and Grow Rich\n",
      "oooooo\n",
      "###########################################################################\n",
      "Enter 1 to display the books.\n",
      "Enter 2 request for the book.\n",
      "Enter 3 return a book.\n",
      "Enter 4 to exit.\n",
      "Which task do you want to perform: 4\n"
     ]
    }
   ],
   "source": [
    "while True:\n",
    "    print(\"Enter 1 to display the books.\")\n",
    "    print(\"Enter 2 request for the book.\")\n",
    "    print(\"Enter 3 return a book.\")\n",
    "    print(\"Enter 4 to exit.\")\n",
    "    userchoice = int(input(\"Which task do you want to perform: \"))\n",
    "    if userchoice is 1:\n",
    "        library.displayavaiblebook()\n",
    "    elif userchoice is 2:\n",
    "        requestedbook = customer.requestbook()\n",
    "        library.lend(requestedbook)\n",
    "    elif userchoice == 3:\n",
    "        returenedbook = customer.returnbook()"
   ]
  },
  {
   "cell_type": "code",
   "execution_count": null,
   "metadata": {},
   "outputs": [],
   "source": []
  }
 ],
 "metadata": {
  "kernelspec": {
   "display_name": "Python 3",
   "language": "python",
   "name": "python3"
  },
  "language_info": {
   "codemirror_mode": {
    "name": "ipython",
    "version": 3
   },
   "file_extension": ".py",
   "mimetype": "text/x-python",
   "name": "python",
   "nbconvert_exporter": "python",
   "pygments_lexer": "ipython3",
   "version": "3.6.4"
  }
 },
 "nbformat": 4,
 "nbformat_minor": 2
}
