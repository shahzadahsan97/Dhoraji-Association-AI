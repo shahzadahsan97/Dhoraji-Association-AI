{
 "cells": [
  {
   "cell_type": "code",
   "execution_count": null,
   "metadata": {},
   "outputs": [],
   "source": [
    "class Employee:\n",
    "    name = 'Waqas'\n",
    "    designation = 'Senior Developer'\n",
    "    projectsdone = 6\n",
    "    \n",
    "    def hasAchivedTargets(self):\n",
    "        if self.projectsdone >= 5:\n",
    "            print('He has achived his monthly target')\n",
    "        else:\n",
    "            print(\"Traget has not been achived\")\n",
    "        "
   ]
  },
  {
   "cell_type": "code",
   "execution_count": null,
   "metadata": {},
   "outputs": [],
   "source": [
    "employeeOne = Employee()\n",
    "employeeOne.name"
   ]
  },
  {
   "cell_type": "code",
   "execution_count": null,
   "metadata": {},
   "outputs": [],
   "source": [
    "employeeOne.hasAchivedTargets()"
   ]
  },
  {
   "cell_type": "code",
   "execution_count": null,
   "metadata": {},
   "outputs": [],
   "source": [
    "employeeTwo = Employee()\n",
    "employeeTwo.name"
   ]
  },
  {
   "cell_type": "markdown",
   "metadata": {},
   "source": [
    "# class Atribute and Instance Atribute"
   ]
  },
  {
   "cell_type": "code",
   "execution_count": null,
   "metadata": {},
   "outputs": [],
   "source": [
    "class Employee:\n",
    "    numberofworkinghours = 44\n",
    "    "
   ]
  },
  {
   "cell_type": "code",
   "execution_count": null,
   "metadata": {},
   "outputs": [],
   "source": [
    "employeeone = Employee()\n",
    "employeetwo = Employee()"
   ]
  },
  {
   "cell_type": "code",
   "execution_count": null,
   "metadata": {},
   "outputs": [],
   "source": [
    "employeeone.numberofworkinghours"
   ]
  },
  {
   "cell_type": "code",
   "execution_count": null,
   "metadata": {},
   "outputs": [],
   "source": [
    "employeetwo.numberofworkinghours"
   ]
  },
  {
   "cell_type": "code",
   "execution_count": null,
   "metadata": {},
   "outputs": [],
   "source": [
    "Employee.numberofworkinghours = 40"
   ]
  },
  {
   "cell_type": "code",
   "execution_count": null,
   "metadata": {},
   "outputs": [],
   "source": [
    "employeeone.numberofworkinghours"
   ]
  },
  {
   "cell_type": "code",
   "execution_count": null,
   "metadata": {},
   "outputs": [],
   "source": [
    "employeetwo.numberofworkinghours"
   ]
  },
  {
   "cell_type": "code",
   "execution_count": null,
   "metadata": {},
   "outputs": [],
   "source": [
    "employeeOne.name = 'Ahmed'\n",
    "employeeOne.name"
   ]
  },
  {
   "cell_type": "code",
   "execution_count": null,
   "metadata": {},
   "outputs": [],
   "source": [
    "employeeTwo.name"
   ]
  },
  {
   "cell_type": "code",
   "execution_count": null,
   "metadata": {},
   "outputs": [],
   "source": [
    "employeeone.numberofworkinghours = 100\n",
    "employeetwo.numberofworkinghours"
   ]
  },
  {
   "cell_type": "code",
   "execution_count": null,
   "metadata": {},
   "outputs": [],
   "source": [
    "employeeone.numberofworkinghours"
   ]
  },
  {
   "cell_type": "markdown",
   "metadata": {},
   "source": [
    "# Understanding the Self parameter"
   ]
  },
  {
   "cell_type": "code",
   "execution_count": null,
   "metadata": {},
   "outputs": [],
   "source": [
    "class Employee:\n",
    "    def employeeDetails(this):\n",
    "        this.name = 'John'\n",
    "        print('Name of employee is' , this.name)\n",
    "        this.age = 23\n",
    "        print(\"Age of employee is \" , this.age)\n",
    "        \n",
    "    def printemployeeDetails(this):\n",
    "        print(\"Employee Details are: \")\n",
    "        print('Name: ' ,  this.name)\n",
    "        print(\"Age: \" , this.age)"
   ]
  },
  {
   "cell_type": "code",
   "execution_count": null,
   "metadata": {},
   "outputs": [],
   "source": [
    "employee = Employee()\n",
    "employee.employeeDetails()"
   ]
  },
  {
   "cell_type": "code",
   "execution_count": null,
   "metadata": {},
   "outputs": [],
   "source": [
    "employee.printemployeeDetails()\n",
    "#Employee.printemployeeDetails(employee)"
   ]
  },
  {
   "cell_type": "markdown",
   "metadata": {},
   "source": [
    "# Static Method and Instance Method"
   ]
  },
  {
   "cell_type": "code",
   "execution_count": null,
   "metadata": {},
   "outputs": [],
   "source": [
    "class Employee:\n",
    "    def employeeDetails(self):\n",
    "        self.name = 'Shahzad'\n",
    "    @staticmethod\n",
    "    def welcomemessage():\n",
    "        print(\"Welcome to our company.\")"
   ]
  },
  {
   "cell_type": "code",
   "execution_count": null,
   "metadata": {},
   "outputs": [],
   "source": [
    "employee1 = Employee()\n",
    "employee1.employeeDetails()\n",
    "print(employee1.name)"
   ]
  },
  {
   "cell_type": "code",
   "execution_count": null,
   "metadata": {},
   "outputs": [],
   "source": [
    "employee1.welcomemessage()"
   ]
  },
  {
   "cell_type": "markdown",
   "metadata": {},
   "source": [
    "# init() method"
   ]
  },
  {
   "cell_type": "code",
   "execution_count": null,
   "metadata": {},
   "outputs": [],
   "source": [
    "class Employee:\n",
    "    def enteremployeedetails(self):\n",
    "        self.name = 'Saif'\n",
    "    \n",
    "    def displayemployeedetails(self):\n",
    "        print(self.name)"
   ]
  },
  {
   "cell_type": "code",
   "execution_count": null,
   "metadata": {},
   "outputs": [],
   "source": [
    "employee = Employee()"
   ]
  },
  {
   "cell_type": "code",
   "execution_count": null,
   "metadata": {},
   "outputs": [],
   "source": [
    "employee.displayemployeedetails()"
   ]
  },
  {
   "cell_type": "code",
   "execution_count": null,
   "metadata": {},
   "outputs": [],
   "source": [
    "class Boy:\n",
    "    def __init__(self , name):\n",
    "        self.name = name\n",
    "    def boydetail(self):\n",
    "        print(self.name)\n",
    "\n",
    "    "
   ]
  },
  {
   "cell_type": "code",
   "execution_count": null,
   "metadata": {},
   "outputs": [],
   "source": [
    "boy = Boy(23)\n",
    "boy.boydetail()"
   ]
  },
  {
   "cell_type": "code",
   "execution_count": null,
   "metadata": {},
   "outputs": [],
   "source": [
    "boy2 = Boy(\"Ali\")\n",
    "boy2.boydetail()"
   ]
  },
  {
   "cell_type": "raw",
   "metadata": {},
   "source": [
    "implement a library management system which will handle the foloowing task:\n",
    "    customer should be able to display all books which are avaible in library.\n",
    "    handle the process when a customer request to borrow a book.\n",
    "    update the library collection when return a book. "
   ]
  },
  {
   "cell_type": "markdown",
   "metadata": {},
   "source": [
    "# Abstraction and Encapsulation"
   ]
  },
  {
   "cell_type": "code",
   "execution_count": 4,
   "metadata": {},
   "outputs": [],
   "source": [
    "class Library:\n",
    "    def __init__(self , ListofBooks):\n",
    "        self.displayavaiablebooks = ListofBooks\n",
    "    \n",
    "    def displayavaiblebook(self):\n",
    "        print(\"###########################################################################\")\n",
    "        print(\"These books are avaiable in the Library: \")\n",
    "        for book in self.displayavaiablebooks:\n",
    "            print(book)\n",
    "        print(\"###########################################################################\")\n",
    "        \n",
    "    def lend(self , requestedbook):\n",
    "        if requestedbook in self.displayavaiablebooks:\n",
    "            print(\"You have borrow a book.\")\n",
    "            self.displayavaiablebooks.remove(requestedbook)\n",
    "        else:\n",
    "            print(\"Sorry! The book is not avaiable in the library.\")\n",
    "            \n",
    "\n",
    "    def addBook(self , returenedbook):\n",
    "        self.displayavaiablebooks.append(returenedbook)\n",
    "        print(\"You have return the book , Thank you!\")\n",
    "    \n",
    "    \n",
    "    \n",
    "class Customer():\n",
    "    def requestbook(self):\n",
    "        print(\"********************************************************************\")\n",
    "        self.book = input(\"please enter the name of thee book u want to borrow: \")\n",
    "        return self.book\n",
    "    \n",
    "    def returnbook(self):\n",
    "        print(\"Enter the name of the book u want to return\")\n",
    "        self.book = input()\n",
    "        return self.book\n",
    "    "
   ]
  },
  {
   "cell_type": "code",
   "execution_count": 5,
   "metadata": {},
   "outputs": [],
   "source": [
    "library = Library(['Oliver Twist' , 'Who will cry when u will die'  , 'Around the world in eighty days' , 'Think and Grow Rich'])\n",
    "customer = Customer()"
   ]
  },
  {
   "cell_type": "code",
   "execution_count": 7,
   "metadata": {},
   "outputs": [
    {
     "name": "stdout",
     "output_type": "stream",
     "text": [
      "Enter 1 to display the books.\n",
      "Enter 2 request for the book.\n",
      "Enter 3 return a book.\n",
      "Enter 4 to exit.\n",
      "Which task do you want to perform: 1\n",
      "###########################################################################\n",
      "These books are avaiable in the Library: \n",
      "Oliver Twist\n",
      "Who will cry when u will die\n",
      "Around the world in eighty days\n",
      "Think and Grow Rich\n",
      "###########################################################################\n",
      "Enter 1 to display the books.\n",
      "Enter 2 request for the book.\n",
      "Enter 3 return a book.\n",
      "Enter 4 to exit.\n",
      "Which task do you want to perform: 2\n",
      "********************************************************************\n",
      "please enter the name of thee book u want to borrow: Oliver Twist\n",
      "You have borrow a book.\n",
      "Enter 1 to display the books.\n",
      "Enter 2 request for the book.\n",
      "Enter 3 return a book.\n",
      "Enter 4 to exit.\n",
      "Which task do you want to perform: 1\n",
      "###########################################################################\n",
      "These books are avaiable in the Library: \n",
      "Who will cry when u will die\n",
      "Around the world in eighty days\n",
      "Think and Grow Rich\n",
      "###########################################################################\n",
      "Enter 1 to display the books.\n",
      "Enter 2 request for the book.\n",
      "Enter 3 return a book.\n",
      "Enter 4 to exit.\n",
      "Which task do you want to perform: 3\n",
      "Enter the name of the book u want to return\n",
      "Oliver Twist\n",
      "You have return the book , Thank you!\n",
      "Enter 1 to display the books.\n",
      "Enter 2 request for the book.\n",
      "Enter 3 return a book.\n",
      "Enter 4 to exit.\n",
      "Which task do you want to perform: 1\n",
      "###########################################################################\n",
      "These books are avaiable in the Library: \n",
      "Who will cry when u will die\n",
      "Around the world in eighty days\n",
      "Think and Grow Rich\n",
      "Oliver Twist\n",
      "###########################################################################\n",
      "Enter 1 to display the books.\n",
      "Enter 2 request for the book.\n",
      "Enter 3 return a book.\n",
      "Enter 4 to exit.\n",
      "Which task do you want to perform: 2\n",
      "********************************************************************\n",
      "please enter the name of thee book u want to borrow: aaaaaa\n",
      "Sorry! The book is not avaiable in the library.\n",
      "Enter 1 to display the books.\n",
      "Enter 2 request for the book.\n",
      "Enter 3 return a book.\n",
      "Enter 4 to exit.\n",
      "Which task do you want to perform: 2\n",
      "********************************************************************\n",
      "please enter the name of thee book u want to borrow: Oliver Twist\n",
      "You have borrow a book.\n",
      "Enter 1 to display the books.\n",
      "Enter 2 request for the book.\n",
      "Enter 3 return a book.\n",
      "Enter 4 to exit.\n",
      "Which task do you want to perform: 3\n",
      "Enter the name of the book u want to return\n",
      "oooooo\n",
      "You have return the book , Thank you!\n",
      "Enter 1 to display the books.\n",
      "Enter 2 request for the book.\n",
      "Enter 3 return a book.\n",
      "Enter 4 to exit.\n",
      "Which task do you want to perform: 1\n",
      "###########################################################################\n",
      "These books are avaiable in the Library: \n",
      "Who will cry when u will die\n",
      "Around the world in eighty days\n",
      "Think and Grow Rich\n",
      "oooooo\n",
      "###########################################################################\n",
      "Enter 1 to display the books.\n",
      "Enter 2 request for the book.\n",
      "Enter 3 return a book.\n",
      "Enter 4 to exit.\n",
      "Which task do you want to perform: 4\n"
     ]
    }
   ],
   "source": [
    "while True:\n",
    "    print(\"Enter 1 to display the books.\")\n",
    "    print(\"Enter 2 request for the book.\")\n",
    "    print(\"Enter 3 return a book.\")\n",
    "    print(\"Enter 4 to exit.\")\n",
    "    userchoice = int(input(\"Which task do you want to perform: \"))\n",
    "    if userchoice is 1:\n",
    "        library.displayavaiblebook()\n",
    "    elif userchoice is 2:\n",
    "        requestedbook = customer.requestbook()\n",
    "        library.lend(requestedbook)\n",
    "    elif userchoice == 3:\n",
    "        returenedbook = customer.returnbook()"
   ]
  },
  {
   "cell_type": "markdown",
   "metadata": {},
   "source": [
    "# Inheritance"
   ]
  },
  {
   "cell_type": "code",
   "execution_count": 8,
   "metadata": {},
   "outputs": [],
   "source": [
    "class Apple:\n",
    "    manufacture = 'Apple Inc'\n",
    "    contact = 'https://www.apple inc.com'\n",
    "    \n",
    "    def contactdetails(self):\n",
    "        print(\"To contact us u want to visit \" , self.contact)\n",
    "    \n",
    "class MacBook(Apple):\n",
    "    def __init__(self):\n",
    "        self.yearofmanufacture = 2015\n",
    "        \n",
    "    def details(self):\n",
    "        print(\"This Macbook is manufacture in \" , self.yearofmanufacture , 'and the company name is ' , self.manufacture, '.')\n",
    "    "
   ]
  },
  {
   "cell_type": "code",
   "execution_count": 9,
   "metadata": {},
   "outputs": [
    {
     "name": "stdout",
     "output_type": "stream",
     "text": [
      "This Macbook is manufacture in  2015 and the company name is  Apple Inc .\n"
     ]
    }
   ],
   "source": [
    "macbook = MacBook()\n",
    "macbook.details()"
   ]
  },
  {
   "cell_type": "code",
   "execution_count": 10,
   "metadata": {},
   "outputs": [
    {
     "ename": "AttributeError",
     "evalue": "'Apple' object has no attribute 'details'",
     "output_type": "error",
     "traceback": [
      "\u001b[1;31m---------------------------------------------------------------------------\u001b[0m",
      "\u001b[1;31mAttributeError\u001b[0m                            Traceback (most recent call last)",
      "\u001b[1;32m<ipython-input-10-50c13d82116d>\u001b[0m in \u001b[0;36m<module>\u001b[1;34m()\u001b[0m\n\u001b[0;32m      1\u001b[0m \u001b[0mapple\u001b[0m \u001b[1;33m=\u001b[0m \u001b[0mApple\u001b[0m\u001b[1;33m(\u001b[0m\u001b[1;33m)\u001b[0m\u001b[1;33m\u001b[0m\u001b[0m\n\u001b[1;32m----> 2\u001b[1;33m \u001b[0mapple\u001b[0m\u001b[1;33m.\u001b[0m\u001b[0mdetails\u001b[0m\u001b[1;33m(\u001b[0m\u001b[1;33m)\u001b[0m\u001b[1;33m\u001b[0m\u001b[0m\n\u001b[0m",
      "\u001b[1;31mAttributeError\u001b[0m: 'Apple' object has no attribute 'details'"
     ]
    }
   ],
   "source": [
    "apple = Apple()\n",
    "apple.details()"
   ]
  },
  {
   "cell_type": "markdown",
   "metadata": {},
   "source": [
    "# Multiple Inheritance"
   ]
  },
  {
   "cell_type": "code",
   "execution_count": 11,
   "metadata": {},
   "outputs": [],
   "source": [
    "class OperatingSystem:\n",
    "    multiTask = True\n",
    "    name = \"Mac OS\"\n",
    "    \n",
    "class Apple:\n",
    "    website = \"www.apple inc.com\"\n",
    "    name = \"Mac book\"\n",
    "\n",
    "class iphoneX(Apple , OperatingSystem):\n",
    "    def __init__(self):\n",
    "        if self.multiTask is True:\n",
    "            print(\"This is a multi tasking system. Visit {} for more details.\".format(self.website))\n",
    "            print(\"Name: \", self.name)"
   ]
  },
  {
   "cell_type": "code",
   "execution_count": 12,
   "metadata": {},
   "outputs": [
    {
     "name": "stdout",
     "output_type": "stream",
     "text": [
      "This is a multi tasking system. Visit www.apple inc.com for more details.\n",
      "Name:  Mac book\n"
     ]
    }
   ],
   "source": [
    "X = iphoneX()"
   ]
  },
  {
   "cell_type": "code",
   "execution_count": null,
   "metadata": {},
   "outputs": [],
   "source": []
  },
  {
   "cell_type": "code",
   "execution_count": 7,
   "metadata": {},
   "outputs": [
    {
     "name": "stdout",
     "output_type": "stream",
     "text": [
      "My name is 23 and my age is 23 \n"
     ]
    }
   ],
   "source": [
    "name = 'ali'\n",
    "age = 23\n",
    "print(\"My name is {1} and my age is {1} \".format(name , age))"
   ]
  },
  {
   "cell_type": "markdown",
   "metadata": {},
   "source": [
    "# Multi Level Inheritance"
   ]
  },
  {
   "cell_type": "code",
   "execution_count": 18,
   "metadata": {},
   "outputs": [],
   "source": [
    "class MusicalInstrument:\n",
    "    numberofMajorKeys = 12\n",
    "    \n",
    "class StringInstrument(MusicalInstrument):\n",
    "    typeofwood = \"ToneWood\"\n",
    "\n",
    "class Guitar(StringInstrument):\n",
    "    def __init__(self):\n",
    "        self.string = 6\n",
    "        print(\"This guitar consists of {} keys.It is made up of {} and it can play {} strings.\"\n",
    "              .format(self.numberofMajorKeys , self.typeofwood , self.string))\n",
    "    \n",
    "    "
   ]
  },
  {
   "cell_type": "code",
   "execution_count": 19,
   "metadata": {},
   "outputs": [
    {
     "name": "stdout",
     "output_type": "stream",
     "text": [
      "This guitar consists of 12 keys.It is made up of ToneWood and it can play 6 strings.\n"
     ]
    }
   ],
   "source": [
    "guitar = Guitar()"
   ]
  },
  {
   "cell_type": "markdown",
   "metadata": {},
   "source": [
    "# Public , Protected , Private"
   ]
  },
  {
   "cell_type": "code",
   "execution_count": 30,
   "metadata": {},
   "outputs": [],
   "source": [
    "class Car:\n",
    "    numberofwheels = 4\n",
    "    _color = \"Black\" #protected\n",
    "    __enginenumber = 2020  #private\n",
    "    \n",
    "class Audi(Car):\n",
    "    def __init__(self):\n",
    "        print(\"Protected attribute color is \" , self._color)\n",
    "    "
   ]
  },
  {
   "cell_type": "code",
   "execution_count": 31,
   "metadata": {},
   "outputs": [
    {
     "name": "stdout",
     "output_type": "stream",
     "text": [
      "Public attribute number of wheels are:  4\n"
     ]
    }
   ],
   "source": [
    "car = Car()\n",
    "print(\"Public attribute number of wheels are: \" , car.numberofwheels)"
   ]
  },
  {
   "cell_type": "code",
   "execution_count": 37,
   "metadata": {},
   "outputs": [
    {
     "name": "stdout",
     "output_type": "stream",
     "text": [
      "Protected attribute color  Black\n",
      "Private attribute engine number is:  2020\n",
      "The color of car is:  Black\n"
     ]
    }
   ],
   "source": [
    "audi = Audi()\n",
    "print(\"Private attribute engine number is: \" , audi._Car__enginenumber)\n",
    "print(\"The color of car is: \" , car._color )"
   ]
  },
  {
   "cell_type": "markdown",
   "metadata": {},
   "source": [
    "# Polymorphism"
   ]
  },
  {
   "cell_type": "markdown",
   "metadata": {},
   "source": [
    "### Overriding"
   ]
  },
  {
   "cell_type": "code",
   "execution_count": 21,
   "metadata": {},
   "outputs": [],
   "source": [
    "class Employee:\n",
    "    def setnumberofworkinghours(self):\n",
    "        self.numberofworkinghours = 40\n",
    "        \n",
    "    def displaynumberofworkinghours(self):\n",
    "        print(self.numberofworkinghours)\n",
    "        \n",
    "class Trainee(Employee):\n",
    "    def setnumberofworkinghours(self):\n",
    "        self.numberofworkinghours = 45\n",
    "        \n",
    "    def resetnumberofworkinghours(self):\n",
    "        super().setnumberofworkinghours()\n",
    "        \n",
    "        \n",
    "        \n",
    "        "
   ]
  },
  {
   "cell_type": "code",
   "execution_count": 22,
   "metadata": {},
   "outputs": [
    {
     "name": "stdout",
     "output_type": "stream",
     "text": [
      "Number of working hours is:  40\n",
      "Number of working hours of trainee: 45\n",
      "I reset number of working hours: 40\n"
     ]
    }
   ],
   "source": [
    "employee = Employee()\n",
    "employee.setnumberofworkinghours()\n",
    "print(\"Number of working hours is: \" , end = \" \")\n",
    "employee.displaynumberofworkinghours()\n",
    "trainee = Trainee()\n",
    "trainee.setnumberofworkinghours()\n",
    "print(\"Number of working hours of trainee: \" , end = \"\")\n",
    "trainee.displaynumberofworkinghours()\n",
    "trainee.resetnumberofworkinghours()\n",
    "print(\"I reset number of working hours: \" , end = '')\n",
    "trainee.displaynumberofworkinghours()\n"
   ]
  },
  {
   "cell_type": "markdown",
   "metadata": {},
   "source": [
    "# Diamaond Shape ( Multiple Inheritance)"
   ]
  },
  {
   "cell_type": "code",
   "execution_count": 36,
   "metadata": {},
   "outputs": [],
   "source": [
    "class A:\n",
    "    def method(self):\n",
    "        print(\"This method belong to class A.\")\n",
    "\n",
    "class B(A):\n",
    "    def method(self):\n",
    "        print(\"This method belongs to class B.\")\n",
    "\n",
    "class C(A):\n",
    "    def abc(self):\n",
    "        print(\"This method belongs to class C\")\n",
    "\n",
    "class D(C , B):\n",
    "    pass"
   ]
  },
  {
   "cell_type": "code",
   "execution_count": 38,
   "metadata": {},
   "outputs": [
    {
     "name": "stdout",
     "output_type": "stream",
     "text": [
      "This method belongs to class B.\n",
      "This method belongs to class C\n"
     ]
    }
   ],
   "source": [
    "d = D()\n",
    "d.method()\n",
    "d.abc()"
   ]
  },
  {
   "cell_type": "markdown",
   "metadata": {},
   "source": [
    "# Implementing an Abstract Base Class"
   ]
  },
  {
   "cell_type": "code",
   "execution_count": 45,
   "metadata": {},
   "outputs": [],
   "source": [
    "from abc import ABCMeta , abstractmethod\n",
    "\n",
    "class Shape(metaclass = ABCMeta):\n",
    "    @abstractmethod\n",
    "    def area(self):\n",
    "        return 0\n",
    "\n",
    "class Square(Shape):\n",
    "    side = 4\n",
    "    def area(self):\n",
    "        print(\"The are of square is: \" , self.side*self.side)\n",
    "        \n",
    "class Rectangule(Shape):\n",
    "    width = 5\n",
    "    length = 10\n",
    "    def area(self):\n",
    "        print(\"The area of recangule is: \" , self.width * self.length)"
   ]
  },
  {
   "cell_type": "code",
   "execution_count": 49,
   "metadata": {},
   "outputs": [
    {
     "name": "stdout",
     "output_type": "stream",
     "text": [
      "The are of square is:  16\n",
      "The area of recangule is:  50\n"
     ]
    }
   ],
   "source": [
    "square = Square()\n",
    "rect = Rectangule()\n",
    "square.area()\n",
    "rect.area()\n",
    "\n"
   ]
  },
  {
   "cell_type": "code",
   "execution_count": null,
   "metadata": {},
   "outputs": [],
   "source": []
  },
  {
   "cell_type": "code",
   "execution_count": null,
   "metadata": {},
   "outputs": [],
   "source": []
  },
  {
   "cell_type": "code",
   "execution_count": null,
   "metadata": {},
   "outputs": [],
   "source": []
  },
  {
   "cell_type": "code",
   "execution_count": null,
   "metadata": {},
   "outputs": [],
   "source": []
  }
 ],
 "metadata": {
  "kernelspec": {
   "display_name": "Python 3",
   "language": "python",
   "name": "python3"
  },
  "language_info": {
   "codemirror_mode": {
    "name": "ipython",
    "version": 3
   },
   "file_extension": ".py",
   "mimetype": "text/x-python",
   "name": "python",
   "nbconvert_exporter": "python",
   "pygments_lexer": "ipython3",
   "version": "3.6.4"
  }
 },
 "nbformat": 4,
 "nbformat_minor": 2
}
