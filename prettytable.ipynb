{
 "cells": [
  {
   "cell_type": "code",
   "execution_count": 6,
   "metadata": {},
   "outputs": [],
   "source": [
    "import prettytable\n",
    "from prettytable import PrettyTable"
   ]
  },
  {
   "cell_type": "code",
   "execution_count": 8,
   "metadata": {},
   "outputs": [],
   "source": [
    "mytable = PrettyTable(['Student Name' , 'Class' , \"Section\" , \"Percentage\"])"
   ]
  },
  {
   "cell_type": "code",
   "execution_count": 13,
   "metadata": {},
   "outputs": [],
   "source": [
    "mytable.add_row(['Ali' , 'X' , 'C' , '90.02%'])\n",
    "mytable.add_row(['Umer' , 'X' , 'A' , '91.2%'])\n",
    "mytable.add_row(['Kiran' , 'X' ,'D' , '78.92%'])\n",
    "mytable.add_row(['Hani' ,'X' ,  'A' , '87.79%'])\n",
    "mytable.add_row(['Shahzad','X' ,'B' , '85.2%'])\n",
    "mytable.add_row(['Neha', 'X', 'B' , '96.5%'])\n",
    "mytable.add_row(['Laiba', 'X', 'F' , '78.05%'])\n",
    "mytable.add_row(['Bilal', 'X', 'D' , '88.98%'])\n",
    "mytable.add_row(['Saif', 'X', 'A' , '82.85%'])"
   ]
  },
  {
   "cell_type": "code",
   "execution_count": 14,
   "metadata": {},
   "outputs": [
    {
     "name": "stdout",
     "output_type": "stream",
     "text": [
      "+--------------+-------+---------+------------+\n",
      "| Student Name | Class | Section | Percentage |\n",
      "+--------------+-------+---------+------------+\n",
      "|     Ali      |   X   |    C    |   90.02%   |\n",
      "|     Umer     |   X   |    A    |   91.2%    |\n",
      "|     Ali      |   X   |    C    |   90.02%   |\n",
      "|     Umer     |   X   |    A    |   91.2%    |\n",
      "|    Kiran     |   X   |    D    |   78.92%   |\n",
      "|     Hani     |   X   |    A    |   87.79%   |\n",
      "|     Ali      |   X   |    C    |   90.02%   |\n",
      "|     Umer     |   X   |    A    |   91.2%    |\n",
      "|    Kiran     |   X   |    D    |   78.92%   |\n",
      "|     Hani     |   X   |    A    |   87.79%   |\n",
      "|   Shahzad    |   X   |    B    |   85.2%    |\n",
      "|     Neha     |   X   |    B    |   96.5%    |\n",
      "|    Laiba     |   X   |    F    |   78.05%   |\n",
      "|    Bilal     |   X   |    D    |   88.98%   |\n",
      "|     Saif     |   X   |    A    |   82.85%   |\n",
      "+--------------+-------+---------+------------+\n"
     ]
    }
   ],
   "source": [
    "print(mytable)"
   ]
  },
  {
   "cell_type": "code",
   "execution_count": 16,
   "metadata": {},
   "outputs": [
    {
     "name": "stdout",
     "output_type": "stream",
     "text": [
      "🤗\n"
     ]
    }
   ],
   "source": [
    "print(\"\\U0001F917\")"
   ]
  },
  {
   "cell_type": "code",
   "execution_count": 24,
   "metadata": {},
   "outputs": [
    {
     "name": "stdout",
     "output_type": "stream",
     "text": [
      "😷\n"
     ]
    }
   ],
   "source": [
    "print(\"\\U0001F637\")"
   ]
  },
  {
   "cell_type": "code",
   "execution_count": 23,
   "metadata": {},
   "outputs": [
    {
     "name": "stdout",
     "output_type": "stream",
     "text": [
      "😪\n"
     ]
    }
   ],
   "source": [
    "print(\"\\U0001F62A\")"
   ]
  },
  {
   "cell_type": "code",
   "execution_count": 22,
   "metadata": {},
   "outputs": [
    {
     "name": "stdout",
     "output_type": "stream",
     "text": [
      "😘\n"
     ]
    }
   ],
   "source": [
    "print(\"\\U0001F618\")"
   ]
  },
  {
   "cell_type": "code",
   "execution_count": 21,
   "metadata": {},
   "outputs": [
    {
     "name": "stdout",
     "output_type": "stream",
     "text": [
      "😀\n"
     ]
    }
   ],
   "source": [
    "print(\"\\U0001F600\")"
   ]
  },
  {
   "cell_type": "code",
   "execution_count": null,
   "metadata": {},
   "outputs": [],
   "source": []
  }
 ],
 "metadata": {
  "kernelspec": {
   "display_name": "Python 3",
   "language": "python",
   "name": "python3"
  },
  "language_info": {
   "codemirror_mode": {
    "name": "ipython",
    "version": 3
   },
   "file_extension": ".py",
   "mimetype": "text/x-python",
   "name": "python",
   "nbconvert_exporter": "python",
   "pygments_lexer": "ipython3",
   "version": "3.7.4"
  }
 },
 "nbformat": 4,
 "nbformat_minor": 2
}
